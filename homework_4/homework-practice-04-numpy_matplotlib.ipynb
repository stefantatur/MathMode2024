{
 "cells": [
  {
   "cell_type": "markdown",
   "metadata": {},
   "source": [
    "## Татур Стефан НММ-бд-02-22\n",
    "\n",
    "### Библиотеки NUMPY и Matplotlib"
   ]
  },
  {
   "cell_type": "markdown",
   "metadata": {},
   "source": [
    "### О задании\n",
    "Это домашнее задание на библиотеки `numpy` и `matplotlib.pyplot`. В данном задании не рекомендуется использовать циклы, по возможности нужно использовать векторизированные операции `numpy`. Сделанное задание в виде файла с расширением .ipynb (jupyter notebook) нужно загрузить в свой гитхаб репозиторий.  \n",
    "\n",
    "Перед выполнением этого домашнего задания полезно прочитать про возможности и основные методы библиотеки numpy:   \n",
    "https://cs.mipt.ru/advanced_python/lessons/lab16.html\n",
    "\n",
    "### Оценивание и штрафы\n",
    "\n",
    "Задание выполняется самостоятельно. «Похожие» решения считаются плагиатом и все задействованные студенты (в том числе те, у кого списали) не могут получить за него больше 0 баллов. Если вы нашли решение какого-то из заданий (или его часть) в открытом источнике, необходимо указать ссылку на этот источник в отдельном блоке в конце вашей работы (скорее всего вы будете не единственным, кто это нашел, поэтому чтобы исключить подозрение в плагиате, необходима ссылка на источник)."
   ]
  },
  {
   "cell_type": "markdown",
   "metadata": {},
   "source": [
    "Сейчас мы находимся в jupyter-ноутбуке (или ipython-ноутбуке). Это удобная среда для написания кода, проведения экспериментов, изучения данных, построения визуализаций и других нужд, не связанных с написаем production-кода. \n",
    "\n",
    "Ноутбук состоит из ячеек, каждая из которых может быть либо ячейкой с кодом, либо ячейкой с текстом размеченным и неразмеченным. Текст поддерживает markdown-разметку и формулы в Latex.\n",
    "\n",
    "Для работы с содержимым ячейки используется *режим редактирования* (*Edit mode*, включается нажатием клавиши **Enter** после выбора ячейки), а для навигации между ячейками искользуется *командный режим* (*Command mode*, включается нажатием клавиши **Esc**). Тип ячейки можно задать в командном режиме либо с помощью горячих клавиш (**y** to code, **m** to markdown, **r** to edit raw text), либо в меню *Cell -> Cell type*. \n",
    "\n",
    "После заполнения ячейки нужно нажать *Shift + Enter*, эта команда обработает содержимое ячейки: проинтерпретирует код или сверстает размеченный текст.\n",
    "\n",
    "### Формат сдачи\n",
    "Для сдачи задания получившийся файл \\*.ipynb с решением необходимо выложить в свой репозиторий github."
   ]
  },
  {
   "cell_type": "markdown",
   "metadata": {},
   "source": [
    "## Exercise 1\n",
    "1. Создайте равномерное разбиение интервала от -1.3 до 2.5 на 64 отрезка.  \n",
    "2. Сгенерировать numpy массив длины $3n$, заполненный циклически числами 1, 2, 3, 1, 2, 3, 1....  \n",
    "3. Создайте массив первых 10 нечетных целых чисел.  \n",
    "4. Создайте массив нулей размера 10 x 10, а затем создайте в нём \"рамку\" из единиц по краям.  \n",
    "5. Создайте массив 8 x 8 с шахматной доской из нулей и единиц.  \n",
    "6. Создайте функцию, которая создает $n×n$ матрицу с $(i,j)$-элементом, равным $i+j$.\n"
   ]
  },
  {
   "cell_type": "code",
   "execution_count": 3,
   "metadata": {},
   "outputs": [],
   "source": [
    "import numpy as np\n",
    "import matplotlib.pyplot as plt"
   ]
  },
  {
   "cell_type": "markdown",
   "metadata": {},
   "source": [
    "**1.** Создайте равномерное разбиение интервала от -1.3 до 2.5 на 64 отрезка."
   ]
  },
  {
   "cell_type": "code",
   "execution_count": 4,
   "metadata": {},
   "outputs": [],
   "source": [
    "x_space = np.linspace(-1.3,2.5,64)"
   ]
  },
  {
   "cell_type": "markdown",
   "metadata": {},
   "source": [
    "**2.** Сгенерировать numpy массив длины  3𝑛, заполненный циклически числами 1, 2, 3, 1, 2, 3, 1...."
   ]
  },
  {
   "cell_type": "code",
   "execution_count": null,
   "metadata": {},
   "outputs": [],
   "source": [
    "n = int(input())\n",
    "a = np.arange(1,4)\n",
    "print((a[0],a[1],a[2])*n)"
   ]
  },
  {
   "cell_type": "markdown",
   "metadata": {},
   "source": [
    "**3.** Создайте массив первых 10 нечетных целых чисел."
   ]
  },
  {
   "cell_type": "code",
   "execution_count": null,
   "metadata": {},
   "outputs": [],
   "source": [
    "a = np.arange(1, 20, 2)\n",
    "a\n"
   ]
  },
  {
   "cell_type": "markdown",
   "metadata": {},
   "source": [
    "**4.**Создайте массив нулей размера 10 x 10, а затем создайте в нём \"рамку\" из единиц по краям."
   ]
  },
  {
   "cell_type": "code",
   "execution_count": 17,
   "metadata": {
    "scrolled": true
   },
   "outputs": [
    {
     "name": "stdout",
     "output_type": "stream",
     "text": [
      "[[1. 1. 1. 1. 1. 1. 1. 1. 1. 1.]\n",
      " [1. 0. 0. 0. 0. 0. 0. 0. 0. 1.]\n",
      " [1. 0. 0. 0. 0. 0. 0. 0. 0. 1.]\n",
      " [1. 0. 0. 0. 0. 0. 0. 0. 0. 1.]\n",
      " [1. 0. 0. 0. 0. 0. 0. 0. 0. 1.]\n",
      " [1. 0. 0. 0. 0. 0. 0. 0. 0. 1.]\n",
      " [1. 0. 0. 0. 0. 0. 0. 0. 0. 1.]\n",
      " [1. 0. 0. 0. 0. 0. 0. 0. 0. 1.]\n",
      " [1. 0. 0. 0. 0. 0. 0. 0. 0. 1.]\n",
      " [1. 1. 1. 1. 1. 1. 1. 1. 1. 1.]]\n"
     ]
    }
   ],
   "source": [
    "b = np.zeros((10,10))\n",
    "\n",
    "#или можно через:\n",
    "#n = 10\n",
    "#a = [[0]*n for i in range(n)]\n",
    "b[:,0] = 1\n",
    "b[:,9] = 1\n",
    "b[0,:] = 1\n",
    "b[9,:] = 1\n",
    "\n",
    "\n",
    "print(b)"
   ]
  },
  {
   "cell_type": "markdown",
   "metadata": {},
   "source": [
    "**5.** Создайте массив 8 x 8 с шахматной доской из нулей и единиц."
   ]
  },
  {
   "cell_type": "code",
   "execution_count": 31,
   "metadata": {},
   "outputs": [
    {
     "data": {
      "text/plain": [
       "array([[1., 0., 1., 0., 1., 0., 1., 0.],\n",
       "       [0., 1., 0., 1., 0., 1., 0., 1.],\n",
       "       [1., 0., 1., 0., 1., 0., 1., 0.],\n",
       "       [0., 1., 0., 1., 0., 1., 0., 1.],\n",
       "       [1., 0., 1., 0., 1., 0., 1., 0.],\n",
       "       [0., 1., 0., 1., 0., 1., 0., 1.],\n",
       "       [1., 0., 1., 0., 1., 0., 1., 0.],\n",
       "       [0., 1., 0., 1., 0., 1., 0., 1.]])"
      ]
     },
     "execution_count": 31,
     "metadata": {},
     "output_type": "execute_result"
    }
   ],
   "source": [
    "a = np.zeros([8, 8])\n",
    "a[::2, ::2] = 1\n",
    "a[1::2, 1::2] = 1\n",
    "a"
   ]
  },
  {
   "cell_type": "markdown",
   "metadata": {},
   "source": [
    "**6.** Создайте функцию, которая создает  𝑛×𝑛 матрицу с  (𝑖,𝑗) -элементом, равным  𝑖+𝑗."
   ]
  },
  {
   "cell_type": "code",
   "execution_count": 56,
   "metadata": {},
   "outputs": [],
   "source": [
    "def generate(n):\n",
    "    a = np.zeros((n,n))\n",
    "    for i in range(n):\n",
    "        for j in range(n):\n",
    "            a[i,j] = i+j+2\n",
    "    return a "
   ]
  },
  {
   "cell_type": "code",
   "execution_count": 57,
   "metadata": {},
   "outputs": [
    {
     "data": {
      "text/plain": [
       "array([[ 2.,  3.,  4.,  5.,  6.,  7.,  8.],\n",
       "       [ 3.,  4.,  5.,  6.,  7.,  8.,  9.],\n",
       "       [ 4.,  5.,  6.,  7.,  8.,  9., 10.],\n",
       "       [ 5.,  6.,  7.,  8.,  9., 10., 11.],\n",
       "       [ 6.,  7.,  8.,  9., 10., 11., 12.],\n",
       "       [ 7.,  8.,  9., 10., 11., 12., 13.],\n",
       "       [ 8.,  9., 10., 11., 12., 13., 14.]])"
      ]
     },
     "execution_count": 57,
     "metadata": {},
     "output_type": "execute_result"
    }
   ],
   "source": [
    "generate(7)"
   ]
  },
  {
   "cell_type": "code",
   "execution_count": 11,
   "metadata": {},
   "outputs": [
    {
     "data": {
      "text/plain": [
       "array([[1, 2, 3],\n",
       "       [4, 5, 6]])"
      ]
     },
     "execution_count": 11,
     "metadata": {},
     "output_type": "execute_result"
    }
   ],
   "source": [
    "lst = [1,2,3,4,5,6]\n",
    "a = np.array(lst)\n",
    "a.reshape(2,3)"
   ]
  },
  {
   "cell_type": "markdown",
   "metadata": {},
   "source": [
    "## Exercise 2  \n",
    "1. Создайте график $x^2⋅sin(1/x^2)+x$ на интервале $[−1,1]$, используя 250 точек. Не забудьте пометить оси!\n",
    "2. Создайте semilogy график (с логарифмической шкалой для оси y и линейной шкалой для оси x) относительной разницы  функций $1/(1+x^2)$ и $1/x^2$ на интервале $[5,25]$. (Относительная разница чисел $a$ и $b$ определяется как $|1−a/b|$)\n",
    "3. В Scipy также есть много менее распространенных специальных функций. Взгляните на обширный список <a href=https://docs.scipy.org/doc/scipy/reference/special.html> здесь</a>! Выберите несколько интересных спец функций, которые вы знаете (или, может быть, не знаете), подставьте несколько чисел и начертите их.  \n",
    "4. Создайте цветовой график $sin(x)sin(y)$ на интервале $[−π,π]×[−π,π]$.\n"
   ]
  },
  {
   "cell_type": "code",
   "execution_count": 14,
   "metadata": {},
   "outputs": [],
   "source": [
    "import numpy as np\n",
    "import matplotlib.pyplot as plt"
   ]
  },
  {
   "cell_type": "markdown",
   "metadata": {},
   "source": [
    "**1.** Создайте график $x^2⋅sin(1/x^2)+x$ на интервале $[−1,1]$, используя 250 точек. Не забудьте пометить оси!"
   ]
  },
  {
   "cell_type": "code",
   "execution_count": null,
   "metadata": {},
   "outputs": [],
   "source": [
    "ax = np.linspace(-1,1,250)\n",
    "ay = np.sin(1/ax**2)*ax**2 + ax \n",
    "\n",
    "plt.plot(ay,color='green')\n",
    "plt.grid()\n",
    "plt.title('My first graph')\n",
    "plt.xlabel('Ось X')\n",
    "plt.ylabel('Ось Y')"
   ]
  },
  {
   "cell_type": "markdown",
   "metadata": {},
   "source": [
    "**2.** Создайте *semilogy график* (с логарифмической шкалой для оси y и линейной шкалой для оси x) относительной разницы  функций $1/(1+x^2)$ и $1/x^2$ на интервале $[5,25]$. (Относительная разница чисел $a$ и $b$ определяется как $|1−a/b|$)"
   ]
  },
  {
   "cell_type": "code",
   "execution_count": 20,
   "metadata": {},
   "outputs": [
    {
     "data": {
      "text/plain": [
       "[<matplotlib.lines.Line2D at 0x11d099c10>]"
      ]
     },
     "execution_count": 20,
     "metadata": {},
     "output_type": "execute_result"
    },
    {
     "data": {
      "image/png": "[encoded data removed]",
      "text/plain": [
       "<Figure size 640x480 with 1 Axes>"
      ]
     },
     "metadata": {},
     "output_type": "display_data"
    }
   ],
   "source": [
    "ax = np.linspace(5,25,100)\n",
    "ay = 1-((1/(1+ax**2))/(1/ax**2))\n",
    "\n",
    "plt.grid()\n",
    "plt.semilogy()\n",
    "plt.plot(ay)"
   ]
  },
  {
   "cell_type": "markdown",
   "metadata": {},
   "source": [
    "**3.** В Scipy также есть много менее распространенных специальных функций. Взгляните на обширный список <a href=https://docs.scipy.org/doc/scipy/reference/special.html> здесь</a>! Выберите несколько интересных спец функций, которые вы знаете (или, может быть, не знаете), подставьте несколько чисел и начертите их."
   ]
  },
  {
   "cell_type": "code",
   "execution_count": 67,
   "metadata": {},
   "outputs": [
    {
     "data": {
      "image/png": "[encoded data removed]",
      "text/plain": [
       "<Figure size 640x480 with 1 Axes>"
      ]
     },
     "metadata": {},
     "output_type": "display_data"
    }
   ],
   "source": [
    "from scipy.special import log_expit,expit\n",
    "import matplotlib.pyplot as plt\n",
    "\n",
    "x = np.linspace(-6, 6, 50)\n",
    "y = expit(x)\n",
    "ay = log_expit(x)\n",
    "\n",
    "plt.plot(x, y,'g--',label='expit')\n",
    "plt.grid()\n",
    "plt.xlabel('x')\n",
    "plt.title('expit(x)')\n",
    "plt.plot(x,ay,'black',linestyle='', marker='.', label='log_expit')\n",
    "plt.legend()\n",
    "plt.ylabel('y')\n",
    "\n",
    "plt.show()"
   ]
  },
  {
   "cell_type": "markdown",
   "metadata": {},
   "source": [
    "**4.** Создайте цветовой график *$sin(x)sin(y)$* на интервале $[−π,π]×[−π,π]$."
   ]
  },
  {
   "cell_type": "code",
   "execution_count": 96,
   "metadata": {},
   "outputs": [
    {
     "data": {
      "image/png": "[encoded data removed]",
      "text/plain": [
       "<Figure size 600x500 with 2 Axes>"
      ]
     },
     "metadata": {},
     "output_type": "display_data"
    }
   ],
   "source": [
    "import matplotlib as mpl\n",
    "\n",
    "x = np.linspace(-np.pi,np.pi,150)\n",
    "y = np.linspace(-np.pi,np.pi,150)\n",
    "X, Y = np.meshgrid(x, y)\n",
    "\n",
    "Z = np.sin(X) * np.sin(Y)\n",
    "\n",
    "fig,ax = plt.subplots(figsize=(6,5))\n",
    "\n",
    "norm = mpl.colors.Normalize(-abs(Z).max(), abs(Z).max())\n",
    "p = ax.pcolor(X, Y, Z, norm = norm, cmap=mpl.cm.bwr) #mpl.cm.Paired)\n",
    "ax.axis('tight')\n",
    "cb = fig.colorbar(p, ax=ax)\n",
    "\n",
    "plt.show()"
   ]
  },
  {
   "cell_type": "markdown",
   "metadata": {},
   "source": [
    "## Exercise 3  \n",
    "1. Вычислите $cos(x)$ и $sin(x)$ на интервале [0,1] с шагом $0.05$, а затем объедините оба массива чисел как строки в один массив.  \n",
    "2. Создайте случайный массив $3 × 5$ с помощью функции `np.random.rand(3, 5)` и вычислите: сумму всех элементов, сумму строк и сумму столбцов. (Подобно тому, как sorted имеет необязательный аргумент key=, многие функции Numpy имеют необязательный аргумент `axis=`)  \n",
    "3. Создайте случайный массив $5×5$, используя функцию `np.random.rand(5, 5)`. Отсортируйте строки по второму столбцу. Используйте для этого slicing + argsort + indexing.  \n",
    "4. Посчитайте две матрицы: $B = A^TA$ и $C = AA^T$. Что вы можете о них сказать? Какого они размера? В чём их сходство и отличие? Найдите сумму диагональных элементов матриц $B$ и $C$. Посчитайте детерминант и ранг матриц $A$, $B$ и $C$, посмотрите на спектр (набор собственных значений) матриц $B$ и $C$, какие выводы вы можете сделать? (подсказка: используйте готовые функции из библиотеки `np.linalg`).  \n"
   ]
  },
  {
   "cell_type": "code",
   "execution_count": null,
   "metadata": {},
   "outputs": [],
   "source": [
    "import matplotlib as plt\n",
    "import numpy as np\n"
   ]
  },
  {
   "cell_type": "markdown",
   "metadata": {},
   "source": [
    "**1.** Вычислите  𝑐𝑜𝑠(𝑥) и  𝑠𝑖𝑛(𝑥) на интервале [0,1] с шагом  0.05, а затем объедините оба массива чисел как строки в один массив."
   ]
  },
  {
   "cell_type": "code",
   "execution_count": 68,
   "metadata": {},
   "outputs": [
    {
     "data": {
      "text/plain": [
       "array([1.        , 0.99875026, 0.99500417, 0.98877108, 0.98006658,\n",
       "       0.96891242, 0.95533649, 0.93937271, 0.92106099, 0.9004471 ,\n",
       "       0.87758256, 0.85252452, 0.82533561, 0.7960838 , 0.76484219,\n",
       "       0.73168887, 0.69670671, 0.65998315, 0.62160997, 0.58168309,\n",
       "       0.        , 0.04997917, 0.09983342, 0.14943813, 0.19866933,\n",
       "       0.24740396, 0.29552021, 0.34289781, 0.38941834, 0.43496553,\n",
       "       0.47942554, 0.52268723, 0.56464247, 0.60518641, 0.64421769,\n",
       "       0.68163876, 0.71735609, 0.75128041, 0.78332691, 0.8134155 ])"
      ]
     },
     "execution_count": 68,
     "metadata": {},
     "output_type": "execute_result"
    }
   ],
   "source": [
    "ax = np.arange(0,1,0.05)\n",
    "a_cos = np.cos(ax)\n",
    "a_sin = np.sin(ax)\n",
    "\n",
    "np.hstack((a_cos, a_sin))\n"
   ]
  },
  {
   "cell_type": "markdown",
   "metadata": {},
   "source": [
    "**2.** Создайте случайный массив  3×5 с помощью функции np.random.rand(3, 5) и вычислите: сумму всех элементов, сумму строк и сумму столбцов. (Подобно тому, как sorted имеет необязательный аргумент key=, многие функции Numpy имеют необязательный аргумент axis=)"
   ]
  },
  {
   "cell_type": "code",
   "execution_count": 79,
   "metadata": {},
   "outputs": [
    {
     "name": "stdout",
     "output_type": "stream",
     "text": [
      "Сумма всех элементов:8.239332624373327 \n",
      " Сумма столбцов:[1.61106826 2.05817676 1.23529641 1.70744982 1.62734137] \n",
      " Сумма строк: [2.38536761 3.3930679  2.46089712]\n"
     ]
    }
   ],
   "source": [
    "a = np.random.rand(3,5)\n",
    "summa = np.sum(a) \n",
    "stolb = np.sum(a,axis=0) \n",
    "stroka = np.sum(a,axis=1) \n",
    "\n",
    "print('Сумма всех элементов:{} \\n Сумма столбцов:{} \\n Сумма строк: {}'.format(summa,stolb,stroka))\n"
   ]
  },
  {
   "cell_type": "markdown",
   "metadata": {},
   "source": [
    "**3.** Создайте случайный массив  5×5, используя функцию np.random.rand(5, 5). Отсортируйте строки по второму столбцу. Используйте для этого slicing + argsort + indexing."
   ]
  },
  {
   "cell_type": "code",
   "execution_count": null,
   "metadata": {},
   "outputs": [],
   "source": [
    "a = np.random.rand(5,5)\n"
   ]
  },
  {
   "cell_type": "markdown",
   "metadata": {},
   "source": [
    "**4.** Посчитайте две матрицы:  𝐵=𝐴𝑇𝐴 и  𝐶=𝐴𝐴𝑇. Что вы можете о них сказать? Какого они размера? В чём их сходство и отличие? Найдите сумму диагональных элементов матриц  𝐵 и  𝐶. Посчитайте детерминант и ранг матриц  𝐴,  𝐵и  𝐶, посмотрите на спектр (набор собственных значений) матриц  𝐵 и  𝐶, какие выводы вы можете сделать? (подсказка: используйте готовые функции из библиотеки np.linalg)."
   ]
  },
  {
   "cell_type": "code",
   "execution_count": 88,
   "metadata": {},
   "outputs": [
    {
     "data": {
      "text/plain": [
       "(array([[ 66,  78,  90],\n",
       "        [ 78,  93, 108],\n",
       "        [ 90, 108, 126]]),\n",
       " array([[ 14,  32,  50],\n",
       "        [ 32,  77, 122],\n",
       "        [ 50, 122, 194]]))"
      ]
     },
     "execution_count": 88,
     "metadata": {},
     "output_type": "execute_result"
    }
   ],
   "source": [
    "A = np.array([[1,2,3],[4,5,6],[7,8,9]], dtype=int)\n",
    "B = A.transpose()@A\n",
    "C = A@A.transpose()\n",
    "\n",
    "B,C"
   ]
  },
  {
   "cell_type": "code",
   "execution_count": 97,
   "metadata": {},
   "outputs": [
    {
     "data": {
      "text/plain": [
       "(285, 285)"
      ]
     },
     "execution_count": 97,
     "metadata": {},
     "output_type": "execute_result"
    }
   ],
   "source": [
    "sled_B = np.trace(B, offset=0, axis1=0, axis2=1, dtype=None, out=None)\n",
    "sled_C = np.trace(C, offset=0, axis1=0, axis2=1, dtype=None, out=None)\n",
    "sled_B,sled_C"
   ]
  },
  {
   "cell_type": "code",
   "execution_count": 101,
   "metadata": {},
   "outputs": [
    {
     "name": "stdout",
     "output_type": "stream",
     "text": [
      "6.66133814775094e-16 -1.5347723092418215e-12 0.0\n"
     ]
    }
   ],
   "source": [
    "print(np.linalg.det(A),np.linalg.det(B),np.linalg.det(C))\n"
   ]
  },
  {
   "cell_type": "code",
   "execution_count": 103,
   "metadata": {},
   "outputs": [
    {
     "name": "stdout",
     "output_type": "stream",
     "text": [
      "2 2 2\n"
     ]
    }
   ],
   "source": [
    "print(np.linalg.matrix_rank(A),np.linalg.matrix_rank(B),np.linalg.matrix_rank(C))"
   ]
  },
  {
   "cell_type": "code",
   "execution_count": 106,
   "metadata": {},
   "outputs": [
    {
     "name": "stdout",
     "output_type": "stream",
     "text": [
      "Спектр матрицы B: [2.83858587e+02 1.14141342e+00 3.78089062e-15] \n",
      " Спектр матрицы C:[2.83858587e+02 1.14141342e+00 1.49947500e-14]\n"
     ]
    }
   ],
   "source": [
    "spectr_B = np.linalg.eigvals(B)\n",
    "spectr_C = np.linalg.eigvals(C)\n",
    "\n",
    "print(f'Спектр матрицы B: {spectr_B} \\n Спектр матрицы C:{spectr_C}')"
   ]
  },
  {
   "cell_type": "markdown",
   "metadata": {},
   "source": [
    "## Exercise 4    \n",
    "\n",
    "Численно посчитать определённый интеграл  3-мя методами:  \n",
    "a)\tПрямоугольников $\\int\\limits_a^b {f(x)dx \\approx \\Delta x\\sum\\limits_{k = 0}^N {f({x_k})} }$  \n",
    "b)\tТрапеций $\\int\\limits_a^b {f(x)dx \\approx \\frac{{\\Delta x}}{2}\\left( {f({x_0}) + 2\\sum\\limits_{k = 1}^{N - 1} {f({x_k})}  + f({x_N})} \\right)}$  \n",
    "c)\tПо правилу Симпсона  $\\int\\limits_a^b {f(x)dx \\approx \\frac{{\\Delta x}}{3}\\left( {f({x_0}) + 2\\sum\\limits_{k = 1}^{N/2 - 1} {f({x_{2k}})}  + 4\\sum\\limits_{k = 1}^{N/2} {f({x_{2k - 1}})}  + f({x_N})} \\right)}$  \n",
    "\n",
    "\n",
    "1. В реализации этих методов цикл `for` для суммирования использовать нельзя.  \n",
    "2. Нужно посчитать значение интеграла с некоторым шагом интегрирования (например начать с 0.1), потом уменьшить его в десять раз и ещё раз посчитать и так до тех пор пока отличие в ответах будет в 5-м знаке после запятой, т.е. чтобы ошибка была меньше 1e-5. Получить ответы для 3-х разных методов и сделать соответствующие выводы.  \n",
    "3. Необходимо сравнить полученные оценки с аналитическим решением (т.е. формульным, которое вы должны сами посчитать на листочке и вбить формулу-ответ в `Markdown` ячейку).   \n",
    "4. В качестве интеграла взять один из следующих с номером, сгенерированным случайным образом с помощью функции np.random.randint(10), в качестве seed для генератора случайных чисел взять номер своего студенческого билета.\n",
    "\n",
    "<table width=\"80%\"\n",
    "       align=\"center\">\n",
    "    <tr>\n",
    "        <td> 0) $\\int\\limits_3^4 {\\frac{{{x^2} + 3}}{{x - 2}}dx}$ </td>\n",
    "        <td> 1) $\\int\\limits_{ - 2}^{ - 1} {\\frac{{x + 1}}{{{x^3} - {x^2}}}dx}$ </td>\n",
    "        <td> 2) $\\int\\limits_1^2 {\\frac{{{e^{1/{x^2}}}}}{{{x^3}}}dx}$ </td>\n",
    "        <td> 3) $\\int\\limits_1^e {\\frac{{\\cos (\\ln x)}}{x}dx}$ </td>\n",
    "        <td> 4) $\\int\\limits_1^e {\\frac{{dx}}{{x(1 + {{\\ln }^2}x)}}}$ </td>\n",
    "    </tr>                \n",
    "    <tr>\n",
    "        <td> 5) $\\int\\limits_0^{\\pi /2} {{{\\cos }^3}\\alpha \\;d\\alpha }$ </td>\n",
    "        <td> 6) $\\int\\limits_0^{1/3} {c{h^2}3x\\;dx}$ </td>\n",
    "        <td> 7) $\\int\\limits_2^3 {\\frac{{dy}}{{{y^2} - 2y - 8}}dy}$ </td>\n",
    "        <td> 8) $\\int\\limits_{3/4}^2 {\\frac{{dx}}{{\\sqrt {2 + 3x - 2{x^2}} }}}$ </td>\n",
    "        <td> 9) $\\int\\limits_0^2 {\\frac{{2x - 1}}{{2x + 1}}dx}$ </td>\n",
    "        </tr>\n",
    "</table>"
   ]
  },
  {
   "cell_type": "code",
   "execution_count": 16,
   "metadata": {},
   "outputs": [],
   "source": [
    "import numpy as np\n",
    "from scipy import integrate\n",
    "import sympy as sy"
   ]
  },
  {
   "cell_type": "code",
   "execution_count": 17,
   "metadata": {},
   "outputs": [
    {
     "name": "stdout",
     "output_type": "stream",
     "text": [
      "Мой интеграл под номером: 0\n"
     ]
    }
   ],
   "source": [
    "my_intergral = np.random.randint(10)\n",
    "np.random.seed(1132226511)\n",
    "\n",
    "print(f\"Мой интеграл под номером: {my_intergral}\")"
   ]
  },
  {
   "cell_type": "code",
   "execution_count": null,
   "metadata": {},
   "outputs": [],
   "source": [
    "def function(x):\n",
    "    return (x**2 + 3) / (x-2)\n",
    "result = integrate.quad(function, 3, 4)[0]\n",
    "print(f\"Точное значение интеграла: {result}\")\n",
    "start = 3\n",
    "end = 4\n",
    "def rectangle():\n",
    "    step = 0.1\n",
    "    prev = 0\n",
    "    curr = step * function(start)\n",
    "    while abs(curr - prev) >= 1e-5:\n",
    "        step /= 10\n",
    "        prev = curr\n",
    "        curr = step * sum([function(start + i*step) for i in range(int((end-start)//step))])\n",
    "    return (f\"Метод прямоугольников: {curr}\")\n",
    "def trapezoid():\n",
    "    step = 0.1\n",
    "    prev = 0\n",
    "    curr = (function(start) + function(end)) / 2 * step\n",
    "    while abs(curr - prev) >= 1e-5:\n",
    "        step /= 10\n",
    "        prev = curr\n",
    "        curr = (step / 2) * sum(function(start + i*step) + function(start + (i+1)*step) for i in range(int((end-start)//step)))\n",
    "    return (f\"Метод трапеции: {curr}\")\n",
    "def simpson():\n",
    "    step = 0.1\n",
    "    curr = 0\n",
    "    while True:\n",
    "        prev = curr\n",
    "        curr = 0\n",
    "        curr += function(start) + function(end) + 4 * sum(function(start + i * step) for i in range(1, int((end - start) // step), 2)) + 2 * sum(function(start + i * step) for i in range(2, int((end - start) // step) - 1, 2))\n",
    "        curr *= step / 3\n",
    "        if abs(curr - prev) < 1e-5 and abs(curr - result) < 1e-5:\n",
    "            return (f\"Метод Симпсона: {curr}\")\n",
    "        else:\n",
    "            step /= 10\n",
    "print(rectangle())\n",
    "print(trapezoid())\n",
    "print(simpson())"
   ]
  },
  {
   "cell_type": "code",
   "execution_count": null,
   "metadata": {},
   "outputs": [],
   "source": [
    "trapezoid()"
   ]
  },
  {
   "cell_type": "code",
   "execution_count": null,
   "metadata": {},
   "outputs": [],
   "source": []
  }
 ],
 "metadata": {
  "kernelspec": {
   "display_name": "Python 3 (ipykernel)",
   "language": "python",
   "name": "python3"
  },
  "language_info": {
   "codemirror_mode": {
    "name": "ipython",
    "version": 3
   },
   "file_extension": ".py",
   "mimetype": "text/x-python",
   "name": "python",
   "nbconvert_exporter": "python",
   "pygments_lexer": "ipython3",
   "version": "3.9.13"
  }
 },
 "nbformat": 4,
 "nbformat_minor": 2
}
