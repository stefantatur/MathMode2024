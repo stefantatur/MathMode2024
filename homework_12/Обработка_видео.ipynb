{
  "nbformat": 4,
  "nbformat_minor": 0,
  "metadata": {
    "colab": {
      "provenance": []
    },
    "kernelspec": {
      "name": "python3",
      "display_name": "Python 3"
    },
    "language_info": {
      "name": "python"
    }
  },
  "cells": [
    {
      "cell_type": "markdown",
      "source": [
        "**Работу выполнил:**\n",
        "\n",
        "\n",
        "Татур Стефан\n",
        "\n",
        "**Группа:**\n",
        "\n",
        "\n",
        "НММ-бд-02-22"
      ],
      "metadata": {
        "id": "a-u8sISXOKwp"
      }
    },
    {
      "cell_type": "markdown",
      "source": [
        "\n",
        "**Задание 1**\n",
        "\n",
        "При помощи библиотеки cv2, откройте видеофайл из занятия ‘times-square.mp4’. Выполните операцию оконтуривания для всех кадров видео и сохраните результат в файл ‘contour.mp4’.\n",
        "\n"
      ],
      "metadata": {
        "id": "t5fvyZmJJUzu"
      }
    },
    {
      "cell_type": "code",
      "execution_count": 2,
      "metadata": {
        "id": "h2igNjAXJOlT"
      },
      "outputs": [],
      "source": [
        "import cv2\n",
        "from IPython.display import display, clear_output\n",
        "import numpy as np"
      ]
    },
    {
      "cell_type": "code",
      "source": [
        "video_path = 'cat.mp4'\n",
        "cap = cv2.VideoCapture(video_path)\n",
        "\n",
        "# Проверяем, удалось ли открыть файл\n",
        "if not cap.isOpened():\n",
        "    print(\"Ошибка: Не удалось открыть видеофайл.\")\n",
        "else:\n",
        "    try:\n",
        "        # Создаем объект VideoWriter для сохранения видео\n",
        "        frame_width = int(cap.get(cv2.CAP_PROP_FRAME_WIDTH))\n",
        "        frame_height = int(cap.get(cv2.CAP_PROP_FRAME_HEIGHT))\n",
        "        fps = int(cap.get(cv2.CAP_PROP_FPS))\n",
        "        out = cv2.VideoWriter('contour.mp4', cv2.VideoWriter_fourcc(*'mp4v'), fps, (frame_width, frame_height))\n",
        "\n",
        "        # Обработка и отображение каждого кадра\n",
        "        while cap.isOpened():\n",
        "            ret, frame = cap.read()\n",
        "            if not ret:\n",
        "                break\n",
        "\n",
        "            # Преобразуем кадр в оттенки серого\n",
        "            gray = cv2.cvtColor(frame, cv2.COLOR_BGR2GRAY)\n",
        "\n",
        "            # Применяем операцию оконтуривания (контурный алгоритм Canny)\n",
        "            edges = cv2.Canny(gray, 50, 150)\n",
        "\n",
        "            # Преобразуем обнаруженные границы в цветное изображение\n",
        "            edges_color = cv2.cvtColor(edges, cv2.COLOR_GRAY2BGR)\n",
        "\n",
        "            # Записываем обработанный кадр в файл\n",
        "            out.write(edges_color)\n",
        "\n",
        "            # Отображаем кадр в блокноте\n",
        "            display(np.hstack([frame, edges_color]))\n",
        "            clear_output(wait=True)\n",
        "\n",
        "    finally:\n",
        "        # Освобождаем ресурсы\n",
        "        cap.release()\n",
        "        out.release()"
      ],
      "metadata": {
        "colab": {
          "base_uri": "https://localhost:8080/",
          "height": 868
        },
        "id": "kIjb3kitJc3W",
        "outputId": "6c840c28-5b54-418e-f710-7a0eba828cf8"
      },
      "execution_count": 3,
      "outputs": [
        {
          "output_type": "display_data",
          "data": {
            "text/plain": [
              "array([[[172, 183, 206],\n",
              "        [162, 173, 196],\n",
              "        [139, 149, 175],\n",
              "        ...,\n",
              "        [  0,   0,   0],\n",
              "        [  0,   0,   0],\n",
              "        [  0,   0,   0]],\n",
              "\n",
              "       [[203, 214, 237],\n",
              "        [191, 202, 225],\n",
              "        [166, 176, 202],\n",
              "        ...,\n",
              "        [255, 255, 255],\n",
              "        [255, 255, 255],\n",
              "        [255, 255, 255]],\n",
              "\n",
              "       [[206, 217, 240],\n",
              "        [193, 204, 227],\n",
              "        [165, 175, 201],\n",
              "        ...,\n",
              "        [  0,   0,   0],\n",
              "        [  0,   0,   0],\n",
              "        [  0,   0,   0]],\n",
              "\n",
              "       ...,\n",
              "\n",
              "       [[209, 212, 225],\n",
              "        [209, 212, 225],\n",
              "        [209, 212, 225],\n",
              "        ...,\n",
              "        [  0,   0,   0],\n",
              "        [  0,   0,   0],\n",
              "        [  0,   0,   0]],\n",
              "\n",
              "       [[209, 212, 225],\n",
              "        [209, 212, 225],\n",
              "        [209, 212, 225],\n",
              "        ...,\n",
              "        [255, 255, 255],\n",
              "        [  0,   0,   0],\n",
              "        [  0,   0,   0]],\n",
              "\n",
              "       [[139, 142, 155],\n",
              "        [139, 142, 155],\n",
              "        [139, 142, 155],\n",
              "        ...,\n",
              "        [  0,   0,   0],\n",
              "        [255, 255, 255],\n",
              "        [255, 255, 255]]], dtype=uint8)"
            ]
          },
          "metadata": {}
        }
      ]
    },
    {
      "cell_type": "markdown",
      "source": [
        "**Задание 2**\n",
        "\n",
        "При помощи библиотеки cv2, откройте видеофайл из занятия ‘times-square.mp4’. Сделайте так, чтобы видео начиналось черно-белым и постепенно, к концу стало цветным. Выведите результат на экран при помощи библиотеки MoviePy."
      ],
      "metadata": {
        "id": "jl_Qs6f0LhVb"
      }
    },
    {
      "cell_type": "code",
      "source": [
        "import cv2\n",
        "import numpy as np\n",
        "from moviepy.editor import VideoFileClip, concatenate_videoclips\n",
        "\n",
        "# Путь к исходному видео\n",
        "video_path = 'cat.mp4'\n",
        "output_path = 'cat-black-to-color.mp4'\n",
        "\n",
        "# Функция для преобразования каждого кадра в черно-белый и смешивания с оригинальным\n",
        "def blend_frames(frame, t, duration):\n",
        "    # Преобразование кадра в черно-белый\n",
        "    gray_frame = cv2.cvtColor(frame, cv2.COLOR_BGR2GRAY)\n",
        "    gray_frame = cv2.cvtColor(gray_frame, cv2.COLOR_GRAY2BGR)\n",
        "\n",
        "    # Рассчитываем коэффициент смешивания на основе времени t\n",
        "    alpha = t / duration\n",
        "\n",
        "    # Смешиваем черно-белый и цветной кадры\n",
        "    blended_frame = cv2.addWeighted(gray_frame, 1 - alpha, frame, alpha, 0)\n",
        "\n",
        "    return blended_frame\n",
        "\n",
        "# Загрузка видео с помощью moviepy\n",
        "clip = VideoFileClip(video_path)\n",
        "duration = clip.duration\n",
        "\n",
        "# Преобразование видео с помощью moviepy\n",
        "black_to_color_clip = clip.fl(lambda gf, t: blend_frames(gf(t), t, duration))\n",
        "\n",
        "# Сохранение нового видео\n",
        "black_to_color_clip.write_videofile(output_path, codec='libx264')\n",
        "Video(output_path, embed=True)"
      ],
      "metadata": {
        "colab": {
          "base_uri": "https://localhost:8080/",
          "height": 297
        },
        "id": "r7VWs7p6Jc-j",
        "outputId": "863a77e0-0a3a-4afa-99fb-b4699a77c0dd"
      },
      "execution_count": 4,
      "outputs": [
        {
          "output_type": "stream",
          "name": "stdout",
          "text": [
            "Moviepy - Building video cat-black-to-color.mp4.\n",
            "MoviePy - Writing audio in cat-black-to-colorTEMP_MPY_wvf_snd.mp3\n"
          ]
        },
        {
          "output_type": "stream",
          "name": "stderr",
          "text": []
        },
        {
          "output_type": "stream",
          "name": "stdout",
          "text": [
            "MoviePy - Done.\n",
            "Moviepy - Writing video cat-black-to-color.mp4\n",
            "\n"
          ]
        },
        {
          "output_type": "stream",
          "name": "stderr",
          "text": []
        },
        {
          "output_type": "stream",
          "name": "stdout",
          "text": [
            "Moviepy - Done !\n",
            "Moviepy - video ready cat-black-to-color.mp4\n"
          ]
        },
        {
          "output_type": "error",
          "ename": "NameError",
          "evalue": "name 'Video' is not defined",
          "traceback": [
            "\u001b[0;31m---------------------------------------------------------------------------\u001b[0m",
            "\u001b[0;31mNameError\u001b[0m                                 Traceback (most recent call last)",
            "\u001b[0;32m<ipython-input-4-38e8d49f5da6>\u001b[0m in \u001b[0;36m<cell line: 32>\u001b[0;34m()\u001b[0m\n\u001b[1;32m     30\u001b[0m \u001b[0;31m# Сохранение нового видео\u001b[0m\u001b[0;34m\u001b[0m\u001b[0;34m\u001b[0m\u001b[0m\n\u001b[1;32m     31\u001b[0m \u001b[0mblack_to_color_clip\u001b[0m\u001b[0;34m.\u001b[0m\u001b[0mwrite_videofile\u001b[0m\u001b[0;34m(\u001b[0m\u001b[0moutput_path\u001b[0m\u001b[0;34m,\u001b[0m \u001b[0mcodec\u001b[0m\u001b[0;34m=\u001b[0m\u001b[0;34m'libx264'\u001b[0m\u001b[0;34m)\u001b[0m\u001b[0;34m\u001b[0m\u001b[0;34m\u001b[0m\u001b[0m\n\u001b[0;32m---> 32\u001b[0;31m \u001b[0mVideo\u001b[0m\u001b[0;34m(\u001b[0m\u001b[0moutput_path\u001b[0m\u001b[0;34m,\u001b[0m \u001b[0membed\u001b[0m\u001b[0;34m=\u001b[0m\u001b[0;32mTrue\u001b[0m\u001b[0;34m)\u001b[0m\u001b[0;34m\u001b[0m\u001b[0;34m\u001b[0m\u001b[0m\n\u001b[0m",
            "\u001b[0;31mNameError\u001b[0m: name 'Video' is not defined"
          ]
        }
      ]
    },
    {
      "cell_type": "markdown",
      "source": [
        "**Задание 3**\n",
        "\n",
        "Найдите на YouTube видео с плохой стабилизацией и исправьте её при помощи класса Stabilizer библиотеки VidGear. Выведите результат на экран при помощи библиотеки MoviePy."
      ],
      "metadata": {
        "id": "6jWn1Ub4L4rR"
      }
    },
    {
      "cell_type": "code",
      "source": [
        "pip install vidstab"
      ],
      "metadata": {
        "colab": {
          "base_uri": "https://localhost:8080/"
        },
        "id": "8RUbS5gOMPCq",
        "outputId": "6013ac7d-eaad-4738-bc9a-398730378618"
      },
      "execution_count": 9,
      "outputs": [
        {
          "output_type": "stream",
          "name": "stdout",
          "text": [
            "Collecting vidstab\n",
            "  Downloading vidstab-1.7.4-py2.py3-none-any.whl (26 kB)\n",
            "Requirement already satisfied: numpy in /usr/local/lib/python3.10/dist-packages (from vidstab) (1.25.2)\n",
            "Requirement already satisfied: imutils>=0.5.2 in /usr/local/lib/python3.10/dist-packages (from vidstab) (0.5.4)\n",
            "Collecting progress (from vidstab)\n",
            "  Downloading progress-1.6.tar.gz (7.8 kB)\n",
            "  Preparing metadata (setup.py) ... \u001b[?25l\u001b[?25hdone\n",
            "Requirement already satisfied: matplotlib in /usr/local/lib/python3.10/dist-packages (from vidstab) (3.7.1)\n",
            "Requirement already satisfied: contourpy>=1.0.1 in /usr/local/lib/python3.10/dist-packages (from matplotlib->vidstab) (1.2.1)\n",
            "Requirement already satisfied: cycler>=0.10 in /usr/local/lib/python3.10/dist-packages (from matplotlib->vidstab) (0.12.1)\n",
            "Requirement already satisfied: fonttools>=4.22.0 in /usr/local/lib/python3.10/dist-packages (from matplotlib->vidstab) (4.51.0)\n",
            "Requirement already satisfied: kiwisolver>=1.0.1 in /usr/local/lib/python3.10/dist-packages (from matplotlib->vidstab) (1.4.5)\n",
            "Requirement already satisfied: packaging>=20.0 in /usr/local/lib/python3.10/dist-packages (from matplotlib->vidstab) (24.0)\n",
            "Requirement already satisfied: pillow>=6.2.0 in /usr/local/lib/python3.10/dist-packages (from matplotlib->vidstab) (9.4.0)\n",
            "Requirement already satisfied: pyparsing>=2.3.1 in /usr/local/lib/python3.10/dist-packages (from matplotlib->vidstab) (3.1.2)\n",
            "Requirement already satisfied: python-dateutil>=2.7 in /usr/local/lib/python3.10/dist-packages (from matplotlib->vidstab) (2.8.2)\n",
            "Requirement already satisfied: six>=1.5 in /usr/local/lib/python3.10/dist-packages (from python-dateutil>=2.7->matplotlib->vidstab) (1.16.0)\n",
            "Building wheels for collected packages: progress\n",
            "  Building wheel for progress (setup.py) ... \u001b[?25l\u001b[?25hdone\n",
            "  Created wheel for progress: filename=progress-1.6-py3-none-any.whl size=9614 sha256=8805d41fddff43ae2769572e2afd3bea11ae9744f5c3e3b118344fe6c8bbab6f\n",
            "  Stored in directory: /root/.cache/pip/wheels/a2/68/5f/c339b20a41659d856c93ccdce6a33095493eb82c3964aac5a1\n",
            "Successfully built progress\n",
            "Installing collected packages: progress, vidstab\n",
            "Successfully installed progress-1.6 vidstab-1.7.4\n"
          ]
        }
      ]
    },
    {
      "cell_type": "code",
      "source": [
        "pip install pytube"
      ],
      "metadata": {
        "colab": {
          "base_uri": "https://localhost:8080/"
        },
        "id": "dkV2ESAhMbz5",
        "outputId": "733c05a8-13b4-47c0-e75a-3c72f3ec38f5"
      },
      "execution_count": 11,
      "outputs": [
        {
          "output_type": "stream",
          "name": "stdout",
          "text": [
            "Collecting pytube\n",
            "  Downloading pytube-15.0.0-py3-none-any.whl (57 kB)\n",
            "\u001b[?25l     \u001b[90m━━━━━━━━━━━━━━━━━━━━━━━━━━━━━━━━━━━━━━━━\u001b[0m \u001b[32m0.0/57.6 kB\u001b[0m \u001b[31m?\u001b[0m eta \u001b[36m-:--:--\u001b[0m\r\u001b[2K     \u001b[90m━━━━━━━━━━━━━━━━━━━━━━━━━━━━━━━━━━━━━━━━\u001b[0m \u001b[32m57.6/57.6 kB\u001b[0m \u001b[31m2.1 MB/s\u001b[0m eta \u001b[36m0:00:00\u001b[0m\n",
            "\u001b[?25hInstalling collected packages: pytube\n",
            "Successfully installed pytube-15.0.0\n"
          ]
        }
      ]
    },
    {
      "cell_type": "code",
      "source": [
        "import cv2\n",
        "from vidstab import VidStab\n",
        "from moviepy.editor import VideoFileClip\n",
        "from IPython.display import Video\n",
        "from pytube import YouTube\n",
        "\n",
        "# Скачивание видео с YouTube\n",
        "youtube_url = 'https://www.youtube.com/watch?v=seqy9kd_eGo&list=RDD0j-pSjlgls&index=6'\n",
        "video_path = 'downloaded_video.mp4'\n",
        "YouTube(youtube_url).streams.filter(file_extension='mp4').first().download(filename=video_path)\n",
        "\n",
        "# Инициализация стабилизатора\n",
        "stabilizer = VidStab()\n",
        "\n",
        "# Загрузка видео с помощью MoviePy\n",
        "video_clip = VideoFileClip(video_path)\n",
        "\n",
        "# Обработка каждого кадра и сохранение стабилизированного видео\n",
        "stabilized_clip = video_clip.fl_image(stabilizer.stabilize_frame)\n",
        "stabilized_clip.write_videofile(\"stabilized_video.mp4\", codec=\"libx264\", fps=video_clip.fps)\n",
        "\n",
        "# Отображение стабилизированного видео в Jupyter Notebook\n",
        "Video(\"stabilized_video.mp4\")"
      ],
      "metadata": {
        "colab": {
          "resources": {
            "http://localhost:8080/stabilized_video.mp4": {
              "data": "CjwhRE9DVFlQRSBodG1sPgo8aHRtbCBsYW5nPWVuPgogIDxtZXRhIGNoYXJzZXQ9dXRmLTg+CiAgPG1ldGEgbmFtZT12aWV3cG9ydCBjb250ZW50PSJpbml0aWFsLXNjYWxlPTEsIG1pbmltdW0tc2NhbGU9MSwgd2lkdGg9ZGV2aWNlLXdpZHRoIj4KICA8dGl0bGU+RXJyb3IgNDA0IChOb3QgRm91bmQpISExPC90aXRsZT4KICA8c3R5bGU+CiAgICAqe21hcmdpbjowO3BhZGRpbmc6MH1odG1sLGNvZGV7Zm9udDoxNXB4LzIycHggYXJpYWwsc2Fucy1zZXJpZn1odG1se2JhY2tncm91bmQ6I2ZmZjtjb2xvcjojMjIyO3BhZGRpbmc6MTVweH1ib2R5e21hcmdpbjo3JSBhdXRvIDA7bWF4LXdpZHRoOjM5MHB4O21pbi1oZWlnaHQ6MTgwcHg7cGFkZGluZzozMHB4IDAgMTVweH0qID4gYm9keXtiYWNrZ3JvdW5kOnVybCgvL3d3dy5nb29nbGUuY29tL2ltYWdlcy9lcnJvcnMvcm9ib3QucG5nKSAxMDAlIDVweCBuby1yZXBlYXQ7cGFkZGluZy1yaWdodDoyMDVweH1we21hcmdpbjoxMXB4IDAgMjJweDtvdmVyZmxvdzpoaWRkZW59aW5ze2NvbG9yOiM3Nzc7dGV4dC1kZWNvcmF0aW9uOm5vbmV9YSBpbWd7Ym9yZGVyOjB9QG1lZGlhIHNjcmVlbiBhbmQgKG1heC13aWR0aDo3NzJweCl7Ym9keXtiYWNrZ3JvdW5kOm5vbmU7bWFyZ2luLXRvcDowO21heC13aWR0aDpub25lO3BhZGRpbmctcmlnaHQ6MH19I2xvZ297YmFja2dyb3VuZDp1cmwoLy93d3cuZ29vZ2xlLmNvbS9pbWFnZXMvbG9nb3MvZXJyb3JwYWdlL2Vycm9yX2xvZ28tMTUweDU0LnBuZykgbm8tcmVwZWF0O21hcmdpbi1sZWZ0Oi01cHh9QG1lZGlhIG9ubHkgc2NyZWVuIGFuZCAobWluLXJlc29sdXRpb246MTkyZHBpKXsjbG9nb3tiYWNrZ3JvdW5kOnVybCgvL3d3dy5nb29nbGUuY29tL2ltYWdlcy9sb2dvcy9lcnJvcnBhZ2UvZXJyb3JfbG9nby0xNTB4NTQtMngucG5nKSBuby1yZXBlYXQgMCUgMCUvMTAwJSAxMDAlOy1tb3otYm9yZGVyLWltYWdlOnVybCgvL3d3dy5nb29nbGUuY29tL2ltYWdlcy9sb2dvcy9lcnJvcnBhZ2UvZXJyb3JfbG9nby0xNTB4NTQtMngucG5nKSAwfX1AbWVkaWEgb25seSBzY3JlZW4gYW5kICgtd2Via2l0LW1pbi1kZXZpY2UtcGl4ZWwtcmF0aW86Mil7I2xvZ297YmFja2dyb3VuZDp1cmwoLy93d3cuZ29vZ2xlLmNvbS9pbWFnZXMvbG9nb3MvZXJyb3JwYWdlL2Vycm9yX2xvZ28tMTUweDU0LTJ4LnBuZykgbm8tcmVwZWF0Oy13ZWJraXQtYmFja2dyb3VuZC1zaXplOjEwMCUgMTAwJX19I2xvZ297ZGlzcGxheTppbmxpbmUtYmxvY2s7aGVpZ2h0OjU0cHg7d2lkdGg6MTUwcHh9CiAgPC9zdHlsZT4KICA8YSBocmVmPS8vd3d3Lmdvb2dsZS5jb20vPjxzcGFuIGlkPWxvZ28gYXJpYS1sYWJlbD1Hb29nbGU+PC9zcGFuPjwvYT4KICA8cD48Yj40MDQuPC9iPiA8aW5zPlRoYXTigJlzIGFuIGVycm9yLjwvaW5zPgogIDxwPiAgPGlucz5UaGF04oCZcyBhbGwgd2Uga25vdy48L2lucz4K",
              "ok": false,
              "headers": [
                [
                  "content-length",
                  "1449"
                ],
                [
                  "content-type",
                  "text/html; charset=utf-8"
                ]
              ],
              "status": 404,
              "status_text": ""
            }
          },
          "base_uri": "https://localhost:8080/",
          "height": 365
        },
        "id": "8UokBXt7JdBC",
        "outputId": "1d9e7c96-052c-42f5-a4bc-c7e326ea5a1d"
      },
      "execution_count": 12,
      "outputs": [
        {
          "output_type": "stream",
          "name": "stdout",
          "text": [
            "Moviepy - Building video stabilized_video.mp4.\n",
            "MoviePy - Writing audio in stabilized_videoTEMP_MPY_wvf_snd.mp3\n"
          ]
        },
        {
          "output_type": "stream",
          "name": "stderr",
          "text": []
        },
        {
          "output_type": "stream",
          "name": "stdout",
          "text": [
            "MoviePy - Done.\n",
            "Moviepy - Writing video stabilized_video.mp4\n",
            "\n"
          ]
        },
        {
          "output_type": "stream",
          "name": "stderr",
          "text": [
            "t: 100%|██████████| 6319/6319 [03:44<00:00, 17.36it/s, now=None]WARNING:py.warnings:/usr/local/lib/python3.10/dist-packages/moviepy/video/io/ffmpeg_reader.py:123: UserWarning: Warning: in file downloaded_video.mp4, 691200 bytes wanted but 0 bytes read,at frame 6318/6319, at time 252.72/252.73 sec. Using the last valid frame instead.\n",
            "  warnings.warn(\"Warning: in file %s, \"%(self.filename)+\n",
            "\n"
          ]
        },
        {
          "output_type": "stream",
          "name": "stdout",
          "text": [
            "Moviepy - Done !\n",
            "Moviepy - video ready stabilized_video.mp4\n"
          ]
        },
        {
          "output_type": "execute_result",
          "data": {
            "text/plain": [
              "<IPython.core.display.Video object>"
            ],
            "text/html": [
              "<video src=\"stabilized_video.mp4\" controls  >\n",
              "      Your browser does not support the <code>video</code> element.\n",
              "    </video>"
            ]
          },
          "metadata": {},
          "execution_count": 12
        }
      ]
    },
    {
      "cell_type": "markdown",
      "source": [
        "**Задание 4**\n",
        "\n",
        "При помощи библиотеки MoviePy, объедините первые 10 секунд видеофайлов из занятия ‘times-square.mp4’ и ‘drone-flying-over-mountain-top-lake-4k.mp4’ таким образом, чтобы кадры из одного и другого видео чередовались по очереди. Выведите результат на экран."
      ],
      "metadata": {
        "id": "l9Md89m6MIib"
      }
    },
    {
      "cell_type": "code",
      "source": [
        "from moviepy.editor import VideoFileClip, concatenate_videoclips\n",
        "from IPython.display import Video\n",
        "video1 = VideoFileClip(\"cat.mp4\").subclip(0, 10)\n",
        "video2 = VideoFileClip(\"cat_2.mp4\").subclip(0, 10)\n",
        "# Создание списка из отдельных клипов\n",
        "clips = [video1, video2]\n",
        "\n",
        "# Создание итогового видео, чередующего кадры из обоих видео\n",
        "final_clip = concatenate_videoclips(clips)\n",
        "\n",
        "# Сохранение результата в файл\n",
        "final_clip.write_videofile(\"output.mp4\", codec=\"libx264\")\n",
        "\n",
        "# Отображение видео в ячейке\n",
        "Video(\"output.mp4\")"
      ],
      "metadata": {
        "colab": {
          "resources": {
            "http://localhost:8080/output.mp4": {
              "data": "CjwhRE9DVFlQRSBodG1sPgo8aHRtbCBsYW5nPWVuPgogIDxtZXRhIGNoYXJzZXQ9dXRmLTg+CiAgPG1ldGEgbmFtZT12aWV3cG9ydCBjb250ZW50PSJpbml0aWFsLXNjYWxlPTEsIG1pbmltdW0tc2NhbGU9MSwgd2lkdGg9ZGV2aWNlLXdpZHRoIj4KICA8dGl0bGU+RXJyb3IgNDA0IChOb3QgRm91bmQpISExPC90aXRsZT4KICA8c3R5bGU+CiAgICAqe21hcmdpbjowO3BhZGRpbmc6MH1odG1sLGNvZGV7Zm9udDoxNXB4LzIycHggYXJpYWwsc2Fucy1zZXJpZn1odG1se2JhY2tncm91bmQ6I2ZmZjtjb2xvcjojMjIyO3BhZGRpbmc6MTVweH1ib2R5e21hcmdpbjo3JSBhdXRvIDA7bWF4LXdpZHRoOjM5MHB4O21pbi1oZWlnaHQ6MTgwcHg7cGFkZGluZzozMHB4IDAgMTVweH0qID4gYm9keXtiYWNrZ3JvdW5kOnVybCgvL3d3dy5nb29nbGUuY29tL2ltYWdlcy9lcnJvcnMvcm9ib3QucG5nKSAxMDAlIDVweCBuby1yZXBlYXQ7cGFkZGluZy1yaWdodDoyMDVweH1we21hcmdpbjoxMXB4IDAgMjJweDtvdmVyZmxvdzpoaWRkZW59aW5ze2NvbG9yOiM3Nzc7dGV4dC1kZWNvcmF0aW9uOm5vbmV9YSBpbWd7Ym9yZGVyOjB9QG1lZGlhIHNjcmVlbiBhbmQgKG1heC13aWR0aDo3NzJweCl7Ym9keXtiYWNrZ3JvdW5kOm5vbmU7bWFyZ2luLXRvcDowO21heC13aWR0aDpub25lO3BhZGRpbmctcmlnaHQ6MH19I2xvZ297YmFja2dyb3VuZDp1cmwoLy93d3cuZ29vZ2xlLmNvbS9pbWFnZXMvbG9nb3MvZXJyb3JwYWdlL2Vycm9yX2xvZ28tMTUweDU0LnBuZykgbm8tcmVwZWF0O21hcmdpbi1sZWZ0Oi01cHh9QG1lZGlhIG9ubHkgc2NyZWVuIGFuZCAobWluLXJlc29sdXRpb246MTkyZHBpKXsjbG9nb3tiYWNrZ3JvdW5kOnVybCgvL3d3dy5nb29nbGUuY29tL2ltYWdlcy9sb2dvcy9lcnJvcnBhZ2UvZXJyb3JfbG9nby0xNTB4NTQtMngucG5nKSBuby1yZXBlYXQgMCUgMCUvMTAwJSAxMDAlOy1tb3otYm9yZGVyLWltYWdlOnVybCgvL3d3dy5nb29nbGUuY29tL2ltYWdlcy9sb2dvcy9lcnJvcnBhZ2UvZXJyb3JfbG9nby0xNTB4NTQtMngucG5nKSAwfX1AbWVkaWEgb25seSBzY3JlZW4gYW5kICgtd2Via2l0LW1pbi1kZXZpY2UtcGl4ZWwtcmF0aW86Mil7I2xvZ297YmFja2dyb3VuZDp1cmwoLy93d3cuZ29vZ2xlLmNvbS9pbWFnZXMvbG9nb3MvZXJyb3JwYWdlL2Vycm9yX2xvZ28tMTUweDU0LTJ4LnBuZykgbm8tcmVwZWF0Oy13ZWJraXQtYmFja2dyb3VuZC1zaXplOjEwMCUgMTAwJX19I2xvZ297ZGlzcGxheTppbmxpbmUtYmxvY2s7aGVpZ2h0OjU0cHg7d2lkdGg6MTUwcHh9CiAgPC9zdHlsZT4KICA8YSBocmVmPS8vd3d3Lmdvb2dsZS5jb20vPjxzcGFuIGlkPWxvZ28gYXJpYS1sYWJlbD1Hb29nbGU+PC9zcGFuPjwvYT4KICA8cD48Yj40MDQuPC9iPiA8aW5zPlRoYXTigJlzIGFuIGVycm9yLjwvaW5zPgogIDxwPiAgPGlucz5UaGF04oCZcyBhbGwgd2Uga25vdy48L2lucz4K",
              "ok": false,
              "headers": [
                [
                  "content-length",
                  "1449"
                ],
                [
                  "content-type",
                  "text/html; charset=utf-8"
                ]
              ],
              "status": 404,
              "status_text": ""
            }
          },
          "base_uri": "https://localhost:8080/",
          "height": 293
        },
        "id": "krL9z1oNMKJC",
        "outputId": "675a5a9a-cbb3-46a9-d8ba-c7cda9e053ed"
      },
      "execution_count": 17,
      "outputs": [
        {
          "output_type": "stream",
          "name": "stdout",
          "text": [
            "Moviepy - Building video output.mp4.\n",
            "MoviePy - Writing audio in outputTEMP_MPY_wvf_snd.mp3\n"
          ]
        },
        {
          "output_type": "stream",
          "name": "stderr",
          "text": []
        },
        {
          "output_type": "stream",
          "name": "stdout",
          "text": [
            "MoviePy - Done.\n",
            "Moviepy - Writing video output.mp4\n",
            "\n"
          ]
        },
        {
          "output_type": "stream",
          "name": "stderr",
          "text": []
        },
        {
          "output_type": "stream",
          "name": "stdout",
          "text": [
            "Moviepy - Done !\n",
            "Moviepy - video ready output.mp4\n"
          ]
        },
        {
          "output_type": "execute_result",
          "data": {
            "text/plain": [
              "<IPython.core.display.Video object>"
            ],
            "text/html": [
              "<video src=\"output.mp4\" controls  >\n",
              "      Your browser does not support the <code>video</code> element.\n",
              "    </video>"
            ]
          },
          "metadata": {},
          "execution_count": 17
        }
      ]
    },
    {
      "cell_type": "markdown",
      "source": [
        "**Задание 5**\n",
        "\n",
        "При помощи библиотеки cv2, сделайте видео, в котором зеленый круг на черном фоне перемещается в разные углы экрана. Видео должно иметь разрешение 800х600, с частотой 10 fps. Выведите итоговое видео на экран при помощи библиотеки MoviePy."
      ],
      "metadata": {
        "id": "OmxxYEOrN0Vm"
      }
    },
    {
      "cell_type": "code",
      "source": [
        "import cv2\n",
        "import numpy as np\n",
        "# Установка параметров видео\n",
        "width, height = 800, 600\n",
        "fps = 10\n",
        "duration = 5  # Длительность видео в секундах\n",
        "# Создание объекта VideoWriter\n",
        "fourcc = cv2.VideoWriter_fourcc(*'mp4v')\n",
        "video_writer = cv2.VideoWriter(\"green_circle_video.mp4\", fourcc, fps, (width, height))\n",
        "# Цикл для создания кадров\n",
        "for i in range(duration * fps):\n",
        "    # Создание черного фона\n",
        "    frame = np.zeros((height, width, 3), dtype=np.uint8)\n",
        "\n",
        "    # Рассчитываем координаты для центра зеленого круга\n",
        "    x = int((i / (duration * fps)) * (width - 100))\n",
        "    y = int((i / (duration * fps)) * (height - 100))\n",
        "\n",
        "    # Рисуем зеленый круг\n",
        "    cv2.circle(frame, (x, y), 50, (0, 255, 0), -1)\n",
        "\n",
        "    # Записываем кадр в видео\n",
        "    video_writer.write(frame)\n",
        "\n",
        "# Освобождаем ресурсы\n",
        "video_writer.release()\n",
        "\n",
        "print(\"Видео успешно создано.\")\n",
        "#Видео успешно создано.\n",
        "from moviepy.editor import VideoFileClip\n",
        "from IPython.display import display\n",
        "\n",
        "# Загружаем видео с зеленым кругом\n",
        "video_clip = VideoFileClip(\"green_circle_video.mp4\")\n",
        "\n",
        "# Выводим видео на экран\n",
        "display(video_clip.ipython_display(fps=10, autoplay=True, loop=True))"
      ],
      "metadata": {
        "colab": {
          "base_uri": "https://localhost:8080/",
          "height": 726
        },
        "id": "zH3oHjbZNski",
        "outputId": "2ed4c801-4a03-4a2c-da7d-05a7eb63d288"
      },
      "execution_count": 18,
      "outputs": [
        {
          "output_type": "stream",
          "name": "stdout",
          "text": [
            "Видео успешно создано.\n",
            "Moviepy - Building video __temp__.mp4.\n",
            "Moviepy - Writing video __temp__.mp4\n",
            "\n"
          ]
        },
        {
          "output_type": "stream",
          "name": "stderr",
          "text": [
            "                                                             "
          ]
        },
        {
          "output_type": "stream",
          "name": "stdout",
          "text": [
            "Moviepy - Done !\n",
            "Moviepy - video ready __temp__.mp4\n"
          ]
        },
        {
          "output_type": "stream",
          "name": "stderr",
          "text": [
            "\r"
          ]
        },
        {
          "output_type": "display_data",
          "data": {
            "text/plain": [
              "<moviepy.video.io.html_tools.HTML2 object>"
            ],
            "text/html": [
              "<div align=middle><video autoplay='True' loop='True'src='data:video/mp4;base64,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' controls>Sorry, seems like your browser doesn't support HTML5 audio/video</video></div>"
            ]
          },
          "metadata": {}
        }
      ]
    }
  ]
}